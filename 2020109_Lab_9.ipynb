{
  "nbformat": 4,
  "nbformat_minor": 0,
  "metadata": {
    "colab": {
      "provenance": [],
      "authorship_tag": "ABX9TyMAL/D/ZNxe1xXheaT7/ghR",
      "include_colab_link": true
    },
    "kernelspec": {
      "name": "python3",
      "display_name": "Python 3"
    },
    "language_info": {
      "name": "python"
    }
  },
  "cells": [
    {
      "cell_type": "markdown",
      "metadata": {
        "id": "view-in-github",
        "colab_type": "text"
      },
      "source": [
        "<a href=\"https://colab.research.google.com/github/dany109/nayirep/blob/main/2020109_Lab_9.ipynb\" target=\"_parent\"><img src=\"https://colab.research.google.com/assets/colab-badge.svg\" alt=\"Open In Colab\"/></a>"
      ]
    },
    {
      "cell_type": "code",
      "execution_count": null,
      "metadata": {
        "colab": {
          "base_uri": "https://localhost:8080/"
        },
        "id": "p8ODk4VSD26C",
        "outputId": "c4551f9e-40dc-429a-af68-8bb906d40ab7"
      },
      "outputs": [
        {
          "output_type": "stream",
          "name": "stdout",
          "text": [
            "0.000000 0.000000 0.000000 \n",
            "0.000000 -0.000000 0.000000 \n",
            "102011210997272476172787432554496.000000 -182365635117505337316245399432981381120.000000 224168.500000 \n",
            "GPU with Global Memory took 0.000003 seconds to execute \n",
            "\n"
          ]
        }
      ],
      "source": [
        "%%cu\n",
        "\n",
        "#include <cuda_runtime.h>\n",
        "#include <iostream>\n",
        "#include <stdlib.h>\n",
        "#include <time.h>\n",
        "\n",
        "__global__ void matrixMulGlobal(float* A, float* B, float* C, int N) {\n",
        "    int Row = blockIdx.y * blockDim.y + threadIdx.y;\n",
        "    int Col = blockIdx.x * blockDim.x + threadIdx.x;\n",
        "\n",
        "    if (Row < N && Col < N) {\n",
        "        float Cvalue = 0;\n",
        "        for (int k = 0; k < N; ++k) {\n",
        "            Cvalue += A[Row*N + k] * B[k*N + Col];\n",
        "        }\n",
        "        C[Row*N + Col] = Cvalue;\n",
        "    }\n",
        "}\n",
        "int main() {\n",
        "    int N = 3; // Matrix size\n",
        "\n",
        "    // host matrices A and B\n",
        "    float h_A[N*N] = {1, 2, 3, 4, 5, 6, 7, 8, 9};\n",
        "    float h_B[N*N] = {9, 15, 12, 52, -52, 15, -21, 52, 21};\n",
        "\n",
        "    // device matrices A, B, and C\n",
        "    float* d_A;\n",
        "    cudaMalloc(&d_A, N*N*sizeof(float));\n",
        "    cudaMemcpy(d_A, h_A, N*N*sizeof(float), cudaMemcpyHostToDevice);\n",
        "\n",
        "    float* d_B;\n",
        "    cudaMalloc(&d_B, N*N*sizeof(float));\n",
        "    cudaMemcpy(d_B, h_B, N*N*sizeof(float), cudaMemcpyHostToDevice);\n",
        "\n",
        "    float* d_C;\n",
        "    cudaMalloc(&d_C, N*N*sizeof(float));\n",
        "\n",
        "    // Launch the kernel\n",
        "    dim3 dimGrid((N + 15) / 16, (N + 15) / 16, 1);\n",
        "    dim3 dimBlock(16, 16, 1);\n",
        "    clock_t t;\n",
        "    t = clock();\n",
        "    matrixMulGlobal<<<dimGrid, dimBlock>>>(d_A, d_B, d_C, N);\n",
        "    cudaDeviceSynchronize();\n",
        "    t = clock() - t;\n",
        "    double time_taken = ((double)t)/CLOCKS_PER_SEC; // in seconds\n",
        "\n",
        "    // resultdevice to the host\n",
        "    float h_C[N*N];\n",
        "    cudaMemcpy(h_C, d_C, N*N*sizeof(float), cudaMemcpyDeviceToHost);\n",
        "\n",
        "    // Print the result\n",
        "    for (int i = 0; i < N*N; ++i) {\n",
        "        printf(\"%f \", h_C[i]);\n",
        "        if (i % N == N-1) {\n",
        "            printf(\"\\n\");\n",
        "        }\n",
        "    }\n",
        "    printf(\"GPU with Global Memory took %f seconds to execute \\n\", time_taken);\n",
        "    // Free memory\n",
        "    cudaFree(d_A);\n",
        "    cudaFree(d_B);\n",
        "    cudaFree(d_C);\n",
        "\n",
        "    return 0;\n",
        "}"
      ]
    },
    {
      "cell_type": "code",
      "source": [
        "pip install git+https://github.com/andreinechaev/nvcc4jupyter.git\n"
      ],
      "metadata": {
        "colab": {
          "base_uri": "https://localhost:8080/"
        },
        "id": "YXvgMKtFETAK",
        "outputId": "029ed84f-7607-498b-9868-f598bcb753dc"
      },
      "execution_count": null,
      "outputs": [
        {
          "output_type": "stream",
          "name": "stdout",
          "text": [
            "Collecting git+https://github.com/andreinechaev/nvcc4jupyter.git\n",
            "  Cloning https://github.com/andreinechaev/nvcc4jupyter.git to /tmp/pip-req-build-esygx8yx\n",
            "  Running command git clone --filter=blob:none --quiet https://github.com/andreinechaev/nvcc4jupyter.git /tmp/pip-req-build-esygx8yx\n",
            "  Resolved https://github.com/andreinechaev/nvcc4jupyter.git to commit 0a71d56e5dce3ff1f0dd2c47c29367629262f527\n",
            "  Preparing metadata (setup.py) ... \u001b[?25l\u001b[?25hdone\n",
            "Building wheels for collected packages: NVCCPlugin\n",
            "  Building wheel for NVCCPlugin (setup.py) ... \u001b[?25l\u001b[?25hdone\n",
            "  Created wheel for NVCCPlugin: filename=NVCCPlugin-0.0.2-py3-none-any.whl size=4293 sha256=d3e151557cac009e5c622589d6b2871e3d07b6bd9d7e1929fbaf9b4d64baab1c\n",
            "  Stored in directory: /tmp/pip-ephem-wheel-cache-bdu_ir0g/wheels/a8/b9/18/23f8ef71ceb0f63297dd1903aedd067e6243a68ea756d6feea\n",
            "Successfully built NVCCPlugin\n",
            "Installing collected packages: NVCCPlugin\n",
            "Successfully installed NVCCPlugin-0.0.2\n"
          ]
        }
      ]
    },
    {
      "cell_type": "code",
      "source": [
        "%load_ext nvcc_plugin"
      ],
      "metadata": {
        "colab": {
          "base_uri": "https://localhost:8080/"
        },
        "id": "9UWkujsKERU5",
        "outputId": "9d9538a4-11df-4638-bac6-9320a8b3b549"
      },
      "execution_count": null,
      "outputs": [
        {
          "output_type": "stream",
          "name": "stdout",
          "text": [
            "created output directory at /content/src\n",
            "Out bin /content/result.out\n"
          ]
        }
      ]
    },
    {
      "cell_type": "code",
      "source": [],
      "metadata": {
        "id": "qTFtSC7OEYK3"
      },
      "execution_count": null,
      "outputs": []
    }
  ]
}